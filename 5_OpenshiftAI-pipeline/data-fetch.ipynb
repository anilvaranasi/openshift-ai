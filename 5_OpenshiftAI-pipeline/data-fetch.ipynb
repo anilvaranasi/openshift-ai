{
 "cells": [
  {
   "cell_type": "code",
   "execution_count": null,
   "id": "bfe5f3b2-90bb-4bf4-9759-5d3d5eada791",
   "metadata": {},
   "outputs": [],
   "source": [
    "!mkdir -p ~/.kaggle\n",
    "!cp kaggle.json ~/.kaggle/"
   ]
  },
  {
   "cell_type": "code",
   "execution_count": null,
   "id": "73e22c93-db1d-41a8-ba2a-3ea2d42ebf70",
   "metadata": {},
   "outputs": [],
   "source": [
    "pip install kaggle"
   ]
  },
  {
   "cell_type": "code",
   "execution_count": null,
   "id": "63898d3f-4ef8-4bbd-8223-7e4276a63912",
   "metadata": {},
   "outputs": [],
   "source": [
    "!kaggle datasets download -d salader/dogs-vs-cats"
   ]
  },
  {
   "cell_type": "code",
   "execution_count": null,
   "id": "3ed17781-5c6c-4d21-aff7-67509167a6e1",
   "metadata": {},
   "outputs": [],
   "source": [
    "import zipfile\n",
    "zip_ref = zipfile.ZipFile('/opt/app-root/src/dogs-vs-cats.zip', 'r')\n",
    "zip_ref.extractall('/opt/app-root/src')\n",
    "zip_ref.close()"
   ]
  }
 ],
 "metadata": {
  "kernelspec": {
   "display_name": "Python 3.9",
   "language": "python",
   "name": "python3"
  },
  "language_info": {
   "codemirror_mode": {
    "name": "ipython",
    "version": 3
   },
   "file_extension": ".py",
   "mimetype": "text/x-python",
   "name": "python",
   "nbconvert_exporter": "python",
   "pygments_lexer": "ipython3",
   "version": "3.9.18"
  }
 },
 "nbformat": 4,
 "nbformat_minor": 5
}
