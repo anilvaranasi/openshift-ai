{
 "cells": [
  {
   "cell_type": "code",
   "execution_count": null,
   "id": "a7b38caf-bb69-42ca-ae3a-197c79d860d3",
   "metadata": {},
   "outputs": [],
   "source": [
    "## save the model\n",
    "model.save('my_dog_cat_model.keras')"
   ]
  },
  {
   "cell_type": "code",
   "execution_count": null,
   "id": "baaf3c59-9a24-4d25-8b27-f66164e0cf4e",
   "metadata": {},
   "outputs": [],
   "source": [
    "# send to S3\n",
    "import boto3\n",
    "\n",
    "# Replace with your AWS access key ID and secret access key\n",
    "AWS_ACCESS_KEY_ID = 'Access_Key'\n",
    "AWS_SECRET_ACCESS_KEY = 'Secret-Key'\n",
    "\n",
    "# Optional: Specify the AWS region where your S3 bucket resides\n",
    "AWS_REGION = 'ap-south-1'  # Example region\n",
    "\n",
    "# Create an S3 client object\n",
    "s3_client = boto3.client('s3',\n",
    "                         aws_access_key_id=AWS_ACCESS_KEY_ID,\n",
    "                         aws_secret_access_key=AWS_SECRET_ACCESS_KEY,\n",
    "                         region_name=AWS_REGION)\n",
    "\n",
    "\n",
    "\n",
    "# s3_client = boto3.client('s3')\n",
    "\n",
    "s3_client.upload_file(\n",
    "    Filename='my_dog_cat_model.keras',\n",
    "    Bucket='intel-landscape',\n",
    "    Key='data-foundary/my_dog_cat_model.keras'\n",
    ")"
   ]
  }
 ],
 "metadata": {
  "kernelspec": {
   "display_name": "Python 3.9",
   "language": "python",
   "name": "python3"
  },
  "language_info": {
   "codemirror_mode": {
    "name": "ipython",
    "version": 3
   },
   "file_extension": ".py",
   "mimetype": "text/x-python",
   "name": "python",
   "nbconvert_exporter": "python",
   "pygments_lexer": "ipython3",
   "version": "3.9.18"
  }
 },
 "nbformat": 4,
 "nbformat_minor": 5
}
